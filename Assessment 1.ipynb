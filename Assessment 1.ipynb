{
 "cells": [
  {
   "cell_type": "code",
   "execution_count": 11,
   "id": "894f278e",
   "metadata": {},
   "outputs": [],
   "source": [
    "EMI = lambda P, R, N : (P*(R/100) * ((1+(R/100))**N))/((1+(R/100))**(N-1))"
   ]
  },
  {
   "cell_type": "code",
   "execution_count": 13,
   "id": "37a9c328",
   "metadata": {},
   "outputs": [
    {
     "data": {
      "text/plain": [
       "7875.0"
      ]
     },
     "execution_count": 13,
     "metadata": {},
     "output_type": "execute_result"
    }
   ],
   "source": [
    "EMI(150000, 5, 2)"
   ]
  },
  {
   "cell_type": "code",
   "execution_count": null,
   "id": "7b6e5bd1",
   "metadata": {},
   "outputs": [],
   "source": []
  }
 ],
 "metadata": {
  "kernelspec": {
   "display_name": "Python 3 (ipykernel)",
   "language": "python",
   "name": "python3"
  },
  "language_info": {
   "codemirror_mode": {
    "name": "ipython",
    "version": 3
   },
   "file_extension": ".py",
   "mimetype": "text/x-python",
   "name": "python",
   "nbconvert_exporter": "python",
   "pygments_lexer": "ipython3",
   "version": "3.10.9"
  }
 },
 "nbformat": 4,
 "nbformat_minor": 5
}
