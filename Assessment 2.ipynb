{
 "cells": [
  {
   "cell_type": "code",
   "execution_count": 1,
   "id": "9b0c827c",
   "metadata": {},
   "outputs": [],
   "source": [
    "ages = [5, 28, 3, 23, 10, 7, 4, 26, 54, 16, 42, 67, 78, 41]"
   ]
  },
  {
   "cell_type": "code",
   "execution_count": 2,
   "id": "0abf521b",
   "metadata": {},
   "outputs": [],
   "source": [
    "kid = []\n",
    "young = []\n",
    "adult = []\n",
    "old = []"
   ]
  },
  {
   "cell_type": "code",
   "execution_count": 3,
   "id": "4d3b4285",
   "metadata": {},
   "outputs": [],
   "source": [
    "def age(num):\n",
    "    if num < 6:\n",
    "        kid.append(num)\n",
    "        print('You are Kid')\n",
    "        \n",
    "    elif num < 17:\n",
    "        young.append(num)\n",
    "        print('You Are Young')\n",
    "       \n",
    "    elif num < 35:\n",
    "        adult.append(num)\n",
    "        print('You are Adult')\n",
    "        \n",
    "    else:\n",
    "        old.append(num)\n",
    "        print('You Are Old')"
   ]
  },
  {
   "cell_type": "code",
   "execution_count": 4,
   "id": "5e88c1e2",
   "metadata": {},
   "outputs": [
    {
     "name": "stdout",
     "output_type": "stream",
     "text": [
      "You Are Old\n"
     ]
    }
   ],
   "source": [
    "age(45)"
   ]
  },
  {
   "cell_type": "code",
   "execution_count": 5,
   "id": "4240c182",
   "metadata": {},
   "outputs": [
    {
     "name": "stdout",
     "output_type": "stream",
     "text": [
      "You are Kid\n",
      "You are Adult\n",
      "You are Kid\n",
      "You are Adult\n",
      "You Are Young\n",
      "You Are Young\n",
      "You are Kid\n",
      "You are Adult\n",
      "You Are Old\n",
      "You Are Young\n",
      "You Are Old\n",
      "You Are Old\n",
      "You Are Old\n",
      "You Are Old\n"
     ]
    },
    {
     "data": {
      "text/plain": [
       "[]"
      ]
     },
     "execution_count": 5,
     "metadata": {},
     "output_type": "execute_result"
    }
   ],
   "source": [
    "list(filter(age, ages ))"
   ]
  },
  {
   "cell_type": "code",
   "execution_count": 6,
   "id": "87388ea6",
   "metadata": {},
   "outputs": [
    {
     "data": {
      "text/plain": [
       "[5, 3, 4]"
      ]
     },
     "execution_count": 6,
     "metadata": {},
     "output_type": "execute_result"
    }
   ],
   "source": [
    "kid"
   ]
  },
  {
   "cell_type": "code",
   "execution_count": 7,
   "id": "de9ebd6b",
   "metadata": {},
   "outputs": [
    {
     "data": {
      "text/plain": [
       "[28, 23, 26]"
      ]
     },
     "execution_count": 7,
     "metadata": {},
     "output_type": "execute_result"
    }
   ],
   "source": [
    "adult"
   ]
  },
  {
   "cell_type": "code",
   "execution_count": 8,
   "id": "c0a2ef3c",
   "metadata": {},
   "outputs": [
    {
     "data": {
      "text/plain": [
       "[45, 54, 42, 67, 78, 41]"
      ]
     },
     "execution_count": 8,
     "metadata": {},
     "output_type": "execute_result"
    }
   ],
   "source": [
    "old"
   ]
  },
  {
   "cell_type": "code",
   "execution_count": 9,
   "id": "ceb93d47",
   "metadata": {},
   "outputs": [
    {
     "data": {
      "text/plain": [
       "[10, 7, 16]"
      ]
     },
     "execution_count": 9,
     "metadata": {},
     "output_type": "execute_result"
    }
   ],
   "source": [
    "young"
   ]
  },
  {
   "cell_type": "code",
   "execution_count": null,
   "id": "e1f149e8",
   "metadata": {},
   "outputs": [],
   "source": []
  }
 ],
 "metadata": {
  "kernelspec": {
   "display_name": "Python 3 (ipykernel)",
   "language": "python",
   "name": "python3"
  },
  "language_info": {
   "codemirror_mode": {
    "name": "ipython",
    "version": 3
   },
   "file_extension": ".py",
   "mimetype": "text/x-python",
   "name": "python",
   "nbconvert_exporter": "python",
   "pygments_lexer": "ipython3",
   "version": "3.10.9"
  }
 },
 "nbformat": 4,
 "nbformat_minor": 5
}
