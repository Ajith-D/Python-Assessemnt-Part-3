{
 "cells": [
  {
   "cell_type": "code",
   "execution_count": 2,
   "id": "212f2cc1",
   "metadata": {},
   "outputs": [],
   "source": [
    "import os"
   ]
  },
  {
   "cell_type": "code",
   "execution_count": 3,
   "id": "36fb5aed",
   "metadata": {},
   "outputs": [
    {
     "data": {
      "text/plain": [
       "'Q1. The alloy of steel that is used for making automobile parts such as axle, ball bearing, etc. is - \\n1) Nickel steel \\n2) Chromium steel \\n3) Tungsten steel \\n4) Stainless steel\\n\\nView Answer\\nANS: 2\\nQ2. Non-metallic mineral is - \\n1) Marble \\n2) Manganese \\n3) Silver \\n4) Lead\\n\\nView Answer\\nANS: 1\\nQ3. A man weighing 65 kg jumps from a 100 ft high building with a load of 35 kg What will be the load experienced by him? \\n1) 20 kg \\n2) 100 kg \\n3) 200 kg \\n4) Zero\\n\\nView Answer\\nANS: 4\\nQ4. In the visible spectrum, the colour having the shortest wavelength is - \\n1) Green \\n2) Red \\n3) Violet \\n4) Blue\\n\\nView Answer\\nANS: 3\\nQ5. The term refraction of light means - \\n1) Bending of light rays when they enter from one medium to another medium \\n2) Splitting of white light into seven colours when it passes through the prism \\n3) Bending of light round the corners of obstacles and apertures \\n4) Coming back of light from a bright smooth surface\\n\\nView Answer\\nANS: 1\\nQ6. The working principle of transformer is - \\n1) Self - induction \\n2) Mutual induction \\n3) Electromagnetic induction \\n4) Lorentz law\\n\\nView Answer\\nANS: 2\\nQ7. After a shower of rain, a rainbow is seen - \\n1) Even in the absence of the sun \\n2) opposite the sun \\n3) towards the sun \\n4) anywhere, irrespective of the position of the sun\\n\\nView Answer\\nANS: 4\\nQ8. After a shower of rain, a rainbow is seen - \\n1) Even in the absence of the sun \\n2) opposite the sun \\n3) towards the sun \\n4) anywhere, irrespective of the position of the sun\\n\\nView Answer\\nANS: 4\\nQ9. Which of the following is a semiconductor? \\n1) Silver \\n2) Glass \\n3) Copper \\n4) Silicon\\n\\nView Answer\\nANS: 4\\nQ10. Which one of the following attributes is not true for uniform circular motion ? \\n1) The distance is always equal to the displacement \\n2) Velocity is always perpendicular to the radius of the circle \\n3) The speed of the body remain constant \\n4) The velocity of the body is continuously changing\\n\\nView Answer\\nANS: 1'"
      ]
     },
     "execution_count": 3,
     "metadata": {},
     "output_type": "execute_result"
    }
   ],
   "source": [
    "file = open('Text_3', 'r')\n",
    "file.read()"
   ]
  },
  {
   "cell_type": "code",
   "execution_count": 4,
   "id": "dd16292e",
   "metadata": {},
   "outputs": [],
   "source": [
    "Answer = '''\n",
    "Q1. The alloy of steel that is used for making automobile parts such as axle, ball bearing, etc. is - \n",
    "1) Nickel steel \n",
    "2) Chromium steel \n",
    "3) Tungsten steel \n",
    "4) Stainless steel\n",
    "\n",
    "View Answer\n",
    "ANS: 2\n",
    "'''"
   ]
  },
  {
   "cell_type": "code",
   "execution_count": 5,
   "id": "0e1b2b78",
   "metadata": {},
   "outputs": [],
   "source": [
    "import re"
   ]
  },
  {
   "cell_type": "code",
   "execution_count": 6,
   "id": "aa492087",
   "metadata": {},
   "outputs": [
    {
     "data": {
      "text/plain": [
       "'\\nQ1. The alloy of steel that is used for making automobile parts such as axle, ball bearing, etc. is - \\n1) Nickel steel \\n2) Chromium steel \\n3) Tungsten steel \\n4) Stainless steel\\n\\nView Answer\\nANS: 2\\n'"
      ]
     },
     "execution_count": 6,
     "metadata": {},
     "output_type": "execute_result"
    }
   ],
   "source": [
    "Answer"
   ]
  },
  {
   "cell_type": "code",
   "execution_count": 8,
   "id": "a60f2c3f",
   "metadata": {},
   "outputs": [
    {
     "name": "stdout",
     "output_type": "stream",
     "text": [
      "Answer for Qstn 1 is ['Chromium steel']\n"
     ]
    }
   ],
   "source": [
    "ans = re.findall('C.{12}l', Answer)\n",
    "print(f'Answer for Qstn 1 is {ans}')\n",
    "    "
   ]
  },
  {
   "cell_type": "code",
   "execution_count": null,
   "id": "7715ba9f",
   "metadata": {},
   "outputs": [],
   "source": []
  }
 ],
 "metadata": {
  "kernelspec": {
   "display_name": "Python 3 (ipykernel)",
   "language": "python",
   "name": "python3"
  },
  "language_info": {
   "codemirror_mode": {
    "name": "ipython",
    "version": 3
   },
   "file_extension": ".py",
   "mimetype": "text/x-python",
   "name": "python",
   "nbconvert_exporter": "python",
   "pygments_lexer": "ipython3",
   "version": "3.10.9"
  }
 },
 "nbformat": 4,
 "nbformat_minor": 5
}
